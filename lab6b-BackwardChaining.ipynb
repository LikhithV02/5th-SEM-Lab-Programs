{
 "cells": [
  {
   "cell_type": "code",
   "execution_count": 1,
   "id": "8c80568f",
   "metadata": {},
   "outputs": [],
   "source": [
    "class Rule:\n",
    "    def __init__(self, conclusion, *premises):\n",
    "        self.conclusion = conclusion\n",
    "        self.premises = premises"
   ]
  },
  {
   "cell_type": "code",
   "execution_count": 2,
   "id": "04941f36",
   "metadata": {},
   "outputs": [],
   "source": [
    "def bwc(goal, rules):\n",
    "    agenda = [goal]\n",
    "    while agenda:\n",
    "        goal = agenda.pop(0)\n",
    "        print('Processing Goal:', goal)\n",
    "        found = False\n",
    "        for rule in rules:\n",
    "            if goal in rule.premises:\n",
    "                print('Found a rule with goal in its Chaining:')\n",
    "                print(rule.conclusion, rule.premises, sep='->')\n",
    "                found = True\n",
    "                for premises in rule.premises:\n",
    "                    if premises not in agenda:\n",
    "                        agenda.append(premises)\n",
    "        if not found:\n",
    "            print('No rules found for goal:', goal)\n",
    "            return False\n",
    "        return True"
   ]
  },
  {
   "cell_type": "code",
   "execution_count": 3,
   "id": "73fd5453",
   "metadata": {},
   "outputs": [
    {
     "name": "stdout",
     "output_type": "stream",
     "text": [
      "Processing Goal: C\n",
      "Found a rule with goal in its Chaining:\n",
      "A->('C',)\n",
      "Found a rule with goal in its Chaining:\n",
      "B->('C',)\n"
     ]
    },
    {
     "data": {
      "text/plain": [
       "True"
      ]
     },
     "execution_count": 3,
     "metadata": {},
     "output_type": "execute_result"
    }
   ],
   "source": [
    "rules = [Rule('A', 'C'), Rule('B', 'C'), Rule('C', 'D')]\n",
    "bwc('C', rules)"
   ]
  },
  {
   "cell_type": "code",
   "execution_count": 5,
   "id": "8ec407f6",
   "metadata": {},
   "outputs": [
    {
     "name": "stdout",
     "output_type": "stream",
     "text": [
      "Goal not reached: goal\n"
     ]
    }
   ],
   "source": [
    "# Define the rule base\n",
    "rules = {\n",
    "    \"rule1\": {\"premise\": [\"fact1\", \"fact2\"], \"conclusion\": \"fact3\"},\n",
    "    \"rule2\": {\"premise\": [\"fact3\"], \"conclusion\": \"fact4\"},\n",
    "    \"rule3\": {\"premise\": [\"fact2\", \"fact4\"], \"conclusion\": \"goal\"}\n",
    "}\n",
    "\n",
    "# Define the initial fact base\n",
    "fact_base = [\"fact1\"]\n",
    "\n",
    "# Define the goal\n",
    "goal = \"goal\"\n",
    "\n",
    "# Function to check if a fact is in the rule's conclusion\n",
    "def check_conclusion(fact, rule):\n",
    "    return fact in rule[\"conclusion\"]\n",
    "\n",
    "# Function to perform backward chaining\n",
    "def backward_chaining(fact_base, rules, goal):\n",
    "    if goal in fact_base:\n",
    "        return True\n",
    "    for rule in rules.values():\n",
    "        if check_conclusion(goal, rule):\n",
    "            all_premise_true = True\n",
    "            for premise in rule[\"premise\"]:\n",
    "                if premise not in fact_base:\n",
    "                    all_premise_true = False\n",
    "                    if not backward_chaining(fact_base, rules, premise):\n",
    "                        return False\n",
    "            if all_premise_true:\n",
    "                return True\n",
    "    return False\n",
    "\n",
    "# Perform backward chaining\n",
    "if backward_chaining(fact_base, rules, goal):\n",
    "    print(\"Goal reached:\", goal)\n",
    "else:\n",
    "    print(\"Goal not reached:\", goal)\n"
   ]
  }
 ],
 "metadata": {
  "kernelspec": {
   "display_name": "Python 3",
   "language": "python",
   "name": "python3"
  },
  "language_info": {
   "codemirror_mode": {
    "name": "ipython",
    "version": 3
   },
   "file_extension": ".py",
   "mimetype": "text/x-python",
   "name": "python",
   "nbconvert_exporter": "python",
   "pygments_lexer": "ipython3",
   "version": "3.10.9 (tags/v3.10.9:1dd9be6, Dec  6 2022, 20:01:21) [MSC v.1934 64 bit (AMD64)]"
  },
  "vscode": {
   "interpreter": {
    "hash": "c7dc5a7ab4c23c659d935da6accc9e65d5e0d28d067336488560d676b94fee83"
   }
  }
 },
 "nbformat": 4,
 "nbformat_minor": 5
}
