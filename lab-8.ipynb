{
 "cells": [
  {
   "cell_type": "code",
   "execution_count": 2,
   "metadata": {},
   "outputs": [],
   "source": [
    "def board(xstate,zstate):  \n",
    "    zero = 'X' if xstate[0] else ('O' if zstate[0] else 0)\n",
    "    one = 'X' if xstate[1] else ('O' if zstate[1] else 1)\n",
    "    two = 'X' if xstate[2] else ('O' if zstate[2] else 2)\n",
    "    three = 'X' if xstate[3] else ('O' if zstate[3] else 3)\n",
    "    four = 'X' if xstate[4] else ('O' if zstate[4] else 4)\n",
    "    five = 'X' if xstate[5] else ('O' if zstate[5] else 5)\n",
    "    six = 'X' if xstate[6] else ('O' if zstate[6] else 6)\n",
    "    seven = 'X' if xstate[7] else ('O' if zstate[7] else 7)\n",
    "    eight = 'X' if xstate[8] else ('O' if zstate[8] else 8)\n",
    "\n",
    "    print(f\"{zero} | {one} | {two} \") \n",
    "    print(\"--|---|---\")\n",
    "    print(f\"{three} | {four} | {five} \")  \n",
    "    print(\"--|---|---\")\n",
    "    print(f\"{six} | {seven} | {eight} \")"
   ]
  },
  {
   "cell_type": "code",
   "execution_count": 3,
   "metadata": {},
   "outputs": [],
   "source": [
    "def sum(a, b, c ):\n",
    "    return a + b + c"
   ]
  },
  {
   "cell_type": "code",
   "execution_count": 4,
   "metadata": {},
   "outputs": [],
   "source": [
    "def checkwin(xstate,zstate) : \n",
    "    wins = [[0,1,2],[3,4,5],[6,7,8],[0,3,6],[1,4,7],[2,5,8],[0,4,8],[2,4,6]] \n",
    "    for win in wins: \n",
    "        if(sum(xstate[win[0]],xstate[win[1]],xstate[win[2]])==3):   \n",
    "            print('X WON THE MATCH!')\n",
    "            return 1 \n",
    "        if(sum(zstate[win[0]],zstate[win[1]],zstate[win[2]])==3):   \n",
    "            print('O WON THE MATCH!')\n",
    "            return 0 \n",
    "    return -1"
   ]
  },
  {
   "cell_type": "code",
   "execution_count": 5,
   "metadata": {},
   "outputs": [
    {
     "name": "stdout",
     "output_type": "stream",
     "text": [
      "WELCOME TO TIC TAC TOE! \n",
      "0 | 1 | 2 \n",
      "--|---|---\n",
      "3 | 4 | 5 \n",
      "--|---|---\n",
      "6 | 7 | 8 \n",
      "X's chance\n",
      "0 | 1 | 2 \n",
      "--|---|---\n",
      "3 | X | 5 \n",
      "--|---|---\n",
      "6 | 7 | 8 \n",
      "O's chance\n",
      "0 | 1 | 2 \n",
      "--|---|---\n",
      "O | X | 5 \n",
      "--|---|---\n",
      "6 | 7 | 8 \n",
      "X's chance\n",
      "0 | 1 | X \n",
      "--|---|---\n",
      "O | X | 5 \n",
      "--|---|---\n",
      "6 | 7 | 8 \n",
      "O's chance\n",
      "O | 1 | X \n",
      "--|---|---\n",
      "O | X | 5 \n",
      "--|---|---\n",
      "6 | 7 | 8 \n",
      "X's chance\n",
      "X WON THE MATCH!\n",
      "MATCH OVER\n"
     ]
    }
   ],
   "source": [
    "xstate = [0,0,0,0,0,0,0,0,0] \n",
    "zstate = [0,0,0,0,0,0,0,0,0] \n",
    "turn = 1\n",
    "print(\"WELCOME TO TIC TAC TOE! \") \n",
    "while True:   \n",
    "    board(xstate,zstate)\n",
    "    if(turn==1): \n",
    "        print(\"X's chance\") \n",
    "        value= int( input(\"Please enter a value: \")) \n",
    "        xstate[value]=1 \n",
    "    else: \n",
    "        print(\"O's chance\") \n",
    "        value= int(input(\"Please enter a value: \")) \n",
    "        zstate[value]=1 \n",
    "    cwin= checkwin(xstate , zstate)\n",
    "    turn = 1 - turn\n",
    "    if(cwin != -1): \n",
    "        print(\"MATCH OVER\")\n",
    "        break"
   ]
  },
  {
   "cell_type": "code",
   "execution_count": 6,
   "metadata": {},
   "outputs": [
    {
     "name": "stdout",
     "output_type": "stream",
     "text": [
      "(-1, 4)\n"
     ]
    }
   ],
   "source": [
    "def minimax(state, is_maximizing):\n",
    "    if (score := evaluate(state, is_maximizing)) is not None:\n",
    "        return score\n",
    "    return (max if is_maximizing else min)(\n",
    "    minimax(new_state, is_maximizing=not is_maximizing)\n",
    "    for new_state in possible_new_states(state)\n",
    ")\n",
    "def possible_new_states(state):\n",
    "    return [state - take for take in (1, 2, 3) if take <= state]\n",
    "def evaluate(state, is_maximizing):\n",
    "    if state == 0:\n",
    "        return 1 if is_maximizing else -1\n",
    "def best_move(state):\n",
    "    return max(\n",
    "    (minimax(new_state, is_maximizing=False), new_state)\n",
    "    for new_state in possible_new_states(state)\n",
    ")\n",
    "\n",
    "print(best_move(5))"
   ]
  }
 ],
 "metadata": {
  "kernelspec": {
   "display_name": "Python 3",
   "language": "python",
   "name": "python3"
  },
  "language_info": {
   "codemirror_mode": {
    "name": "ipython",
    "version": 3
   },
   "file_extension": ".py",
   "mimetype": "text/x-python",
   "name": "python",
   "nbconvert_exporter": "python",
   "pygments_lexer": "ipython3",
   "version": "3.11.1 (tags/v3.11.1:a7a450f, Dec  6 2022, 19:58:39) [MSC v.1934 64 bit (AMD64)]"
  },
  "orig_nbformat": 4,
  "vscode": {
   "interpreter": {
    "hash": "5da74139c40831e3f21e2161b652a9248c1838b1b9b15b50efe7ff30c04fc141"
   }
  }
 },
 "nbformat": 4,
 "nbformat_minor": 2
}
