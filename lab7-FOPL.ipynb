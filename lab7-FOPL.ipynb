{
 "cells": [
  {
   "cell_type": "code",
   "execution_count": 7,
   "metadata": {},
   "outputs": [],
   "source": [
    "import re\n",
    "\n",
    "def dnf(formula):\n",
    "  # Base case: If the formula is a literal, return it as is\n",
    "  if re.fullmatch(r'[A-Z]|~[A-Z]|()\"\"', formula):\n",
    "    return formula\n",
    " \n",
    "  # Recursive case: If the formula is a compound statement, convert it to DNF\n",
    "  if 'and' in formula or 'or' in formula:\n",
    "    # Split the formula into its component parts\n",
    "    parts = re.split(r'(?<=[^\\w])or(?=[^\\w])|(?<=[^\\w])and(?=[^\\w])', formula)\n",
    "    print(f\"parts: {parts}\")\n",
    "    # Convert each part to DNF\n",
    "    dnf_parts = [dnf(part) for part in parts]\n",
    "    print(f\"dnf_parts: {dnf_parts}\")\n",
    "    # Combine the parts using the appropriate logical operator\n",
    "    if 'or' in formula:\n",
    "        return \" or \".join(parts)\n",
    "    elif 'and' in formula:\n",
    "        return \" and \".join(parts)\n"
   ]
  },
  {
   "cell_type": "code",
   "execution_count": 8,
   "metadata": {},
   "outputs": [
    {
     "name": "stdout",
     "output_type": "stream",
     "text": [
      "parts: ['(A ', ' B) ', ' B']\n",
      "dnf_parts: [None, None, None]\n",
      "(A  or  B)  or  B\n"
     ]
    }
   ],
   "source": [
    "\n",
    "# Example usage\n",
    "formula = \"(A or B) or B\"\n",
    "dnf_formula = dnf(formula)\n",
    "print(dnf_formula)  # Outputs: \"A or C or B or D or\"\n"
   ]
  },
  {
   "cell_type": "code",
   "execution_count": 1,
   "metadata": {},
   "outputs": [],
   "source": [
    "import re\n",
    "\n",
    "def cnf(formula):\n",
    "  # Base case: If the formula is a literal, return it as is\n",
    "  if re.fullmatch(r'[A-Z]|~[A-Z]', formula):\n",
    "    return formula\n",
    " \n",
    "  # Recursive case: If the formula is a compound statement, convert it to CNF\n",
    "  if 'and' in formula or 'or' in formula:\n",
    "    # Split the formula into its component parts\n",
    "    parts = re.split(r'(?<=\\()or(?=\\))|(?<=\\()and(?=\\))', formula)\n",
    "    # Convert each part to CNF\n",
    "    #cnf_parts = [cnf(part) for part in parts]\n",
    "    # Combine the parts using the appropriate logical operator\n",
    "    if 'and' in formula:\n",
    "      return \" and \".join(parts)\n",
    "    elif 'or' in formula:\n",
    "      return \" or \".join(parts)\n"
   ]
  },
  {
   "cell_type": "code",
   "execution_count": 2,
   "metadata": {},
   "outputs": [
    {
     "name": "stdout",
     "output_type": "stream",
     "text": [
      "(A and B) or (C and D)\n"
     ]
    }
   ],
   "source": [
    "# Example usage\n",
    "formula = \"(A and B) or (C and D)\"\n",
    "cnf_formula = cnf(formula)\n",
    "print(cnf_formula)  # Outputs: \"A and B or C and D or\"\n"
   ]
  },
  {
   "cell_type": "code",
   "execution_count": 3,
   "metadata": {},
   "outputs": [
    {
     "name": "stdout",
     "output_type": "stream",
     "text": [
      "The clauses are satisfiable.\n"
     ]
    }
   ],
   "source": [
    "from typing import List\n",
    "\n",
    "# Define the initial clauses\n",
    "clauses = [[\"A\",\"B\"], [\"B\",\"C\"], [\"-C\",\"D\"], [\"-D\"]]\n",
    "\n",
    "# Function to perform resolution\n",
    "def resolution(clauses: List[List[str]]) -> bool:\n",
    "    new_clauses = set()\n",
    "    for i, ci in enumerate(clauses):\n",
    "        for cj in clauses[i+1:]:\n",
    "            for pi in ci:\n",
    "                for pj in cj:\n",
    "                    if pi[0] == \"-\" and pi[1:] == pj:\n",
    "                        new_clauses.add(tuple(sorted(set(ci + cj) - {pi, pj})))\n",
    "    if not new_clauses:\n",
    "        return True\n",
    "    if set(clauses) == new_clauses:\n",
    "        return False\n",
    "    return resolution(list(new_clauses))\n",
    "\n",
    "# Perform resolution\n",
    "if resolution(clauses):\n",
    "    print(\"The clauses are satisfiable.\")\n",
    "else:\n",
    "    print(\"The clauses are not satisfiable.\")"
   ]
  }
 ],
 "metadata": {
  "kernelspec": {
   "display_name": "Python 3",
   "language": "python",
   "name": "python3"
  },
  "language_info": {
   "codemirror_mode": {
    "name": "ipython",
    "version": 3
   },
   "file_extension": ".py",
   "mimetype": "text/x-python",
   "name": "python",
   "nbconvert_exporter": "python",
   "pygments_lexer": "ipython3",
   "version": "3.11.1"
  },
  "orig_nbformat": 4,
  "vscode": {
   "interpreter": {
    "hash": "5da74139c40831e3f21e2161b652a9248c1838b1b9b15b50efe7ff30c04fc141"
   }
  }
 },
 "nbformat": 4,
 "nbformat_minor": 2
}
